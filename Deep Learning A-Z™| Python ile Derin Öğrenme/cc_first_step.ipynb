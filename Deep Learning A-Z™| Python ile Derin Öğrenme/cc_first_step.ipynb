{
  "nbformat": 4,
  "nbformat_minor": 0,
  "metadata": {
    "colab": {
      "name": "cc_first_step.ipynb",
      "provenance": [],
      "collapsed_sections": [],
      "include_colab_link": true
    },
    "kernelspec": {
      "name": "python3",
      "display_name": "Python 3"
    }
  },
  "cells": [
    {
      "cell_type": "markdown",
      "metadata": {
        "id": "view-in-github",
        "colab_type": "text"
      },
      "source": [
        "<a href=\"https://colab.research.google.com/github/yakupkaplan/Deep-Learning-Materials/blob/main/Deep%20Learning%20A-Z%E2%84%A2%7C%20Python%20ile%20Derin%20%C3%96%C4%9Frenme/cc_first_step.ipynb\" target=\"_parent\"><img src=\"https://colab.research.google.com/assets/colab-badge.svg\" alt=\"Open In Colab\"/></a>"
      ]
    },
    {
      "cell_type": "markdown",
      "metadata": {
        "id": "FP0TbdSBvFTe"
      },
      "source": [
        "# Step by Step Creating CNN"
      ]
    },
    {
      "cell_type": "markdown",
      "metadata": {
        "id": "hf-kJxiIvSAN"
      },
      "source": [
        "**Load Dependencies**"
      ]
    },
    {
      "cell_type": "code",
      "metadata": {
        "id": "Ey8rag-b3C5G"
      },
      "source": [
        "import numpy as np\n",
        "import h5py\n",
        "import matplotlib.pyplot as plt\n",
        "\n",
        "%matplotlib inline\n",
        "plt.rcParams['figure.figsize'] = (5.0, 4.0) \n",
        "plt.rcParams['image.interpolation'] = 'nearest'\n",
        "plt.rcParams['image.cmap'] = 'gray'\n",
        "\n",
        "%load_ext autoreload\n",
        "%autoreload 2\n",
        "\n",
        "np.random.seed(1)"
      ],
      "execution_count": 6,
      "outputs": []
    },
    {
      "cell_type": "markdown",
      "metadata": {
        "id": "F-5YnM7KvW2R"
      },
      "source": [
        "**Define Padding**"
      ]
    },
    {
      "cell_type": "code",
      "metadata": {
        "id": "1bBNfZsq61Cp"
      },
      "source": [
        "def zero_pad(X, pad):\n",
        "    X_pad = np.pad(X, ((0,0), (pad, pad), (pad,pad), (0,0)), 'constant',  constant_values = 0)    \n",
        "    return X_pad"
      ],
      "execution_count": 7,
      "outputs": []
    },
    {
      "cell_type": "markdown",
      "metadata": {
        "id": "V0-dVjzbvjFP"
      },
      "source": [
        "Illustration After Padding"
      ]
    },
    {
      "cell_type": "code",
      "metadata": {
        "id": "ULXZjhHZ7klu",
        "colab": {
          "base_uri": "https://localhost:8080/",
          "height": 430
        },
        "outputId": "4763ce31-a458-4c87-866c-fe52b84e941a"
      },
      "source": [
        "np.random.seed(1)\n",
        "x = np.random.randn(4, 3, 3, 2)\n",
        "x_pad = zero_pad(x, 2)\n",
        "\n",
        "print (\"x.shape =\", x.shape)\n",
        "print (\"x_pad.shape =\", x_pad.shape)\n",
        "print (\"x[1,1] =\", x[1,1])\n",
        "print (\"x_pad[1,1] =\", x_pad[1,1])\n",
        "\n",
        "fig, axarr = plt.subplots(1, 2)\n",
        "axarr[0].set_title('x')\n",
        "axarr[0].imshow(x[0,:,:,0])\n",
        "axarr[1].set_title('x_pad')\n",
        "axarr[1].imshow(x_pad[0,:,:,0])"
      ],
      "execution_count": 8,
      "outputs": [
        {
          "output_type": "stream",
          "text": [
            "x.shape = (4, 3, 3, 2)\n",
            "x_pad.shape = (4, 7, 7, 2)\n",
            "x[1,1] = [[ 0.90085595 -0.68372786]\n",
            " [-0.12289023 -0.93576943]\n",
            " [-0.26788808  0.53035547]]\n",
            "x_pad[1,1] = [[0. 0.]\n",
            " [0. 0.]\n",
            " [0. 0.]\n",
            " [0. 0.]\n",
            " [0. 0.]\n",
            " [0. 0.]\n",
            " [0. 0.]]\n"
          ],
          "name": "stdout"
        },
        {
          "output_type": "execute_result",
          "data": {
            "text/plain": [
              "<matplotlib.image.AxesImage at 0x7f29e3edb6d8>"
            ]
          },
          "metadata": {
            "tags": []
          },
          "execution_count": 8
        },
        {
          "output_type": "display_data",
          "data": {
            "image/png": "[encoded data removed]",
            "text/plain": [
              "<Figure size 360x288 with 2 Axes>"
            ]
          },
          "metadata": {
            "tags": [],
            "needs_background": "light"
          }
        }
      ]
    },
    {
      "cell_type": "markdown",
      "metadata": {
        "id": "yPWHVXS9vsT-"
      },
      "source": [
        "**Define Convolution Operation**"
      ]
    },
    {
      "cell_type": "code",
      "metadata": {
        "id": "qJepNVFv96wd"
      },
      "source": [
        "def conv_single_step(a_slice_prev, W,b):\n",
        "  \n",
        "  s = np.multiply(a_slice_prev, W)  \n",
        "  Z = np.sum(s)  \n",
        "  Z = float(b)+Z\n",
        "  \n",
        "  return Z"
      ],
      "execution_count": 9,
      "outputs": []
    },
    {
      "cell_type": "markdown",
      "metadata": {
        "id": "XAN28MaBwZz3"
      },
      "source": [
        "**Calculate `Z= x.W+b`**"
      ]
    },
    {
      "cell_type": "code",
      "metadata": {
        "id": "E5HIJAk5_I5X",
        "colab": {
          "base_uri": "https://localhost:8080/"
        },
        "outputId": "92f1016b-dc99-4dfa-ba43-3867d597be17"
      },
      "source": [
        "np.random.seed(1)\n",
        "a_slice_prev = np.random.randn(4, 4, 3)\n",
        "W = np.random.randn(4, 4, 3)\n",
        "b = np.random.randn(1, 1, 1)\n",
        "Z = conv_single_step(a_slice_prev, W, b)\n",
        "print(\"Z =\", Z)"
      ],
      "execution_count": 10,
      "outputs": [
        {
          "output_type": "stream",
          "text": [
            "Z = -6.999089450680221\n"
          ],
          "name": "stdout"
        }
      ]
    },
    {
      "cell_type": "markdown",
      "metadata": {
        "id": "IHnjSnb7wiow"
      },
      "source": [
        "### Define function for forward propagation..."
      ]
    },
    {
      "cell_type": "code",
      "metadata": {
        "id": "wQezGTPa_wa2"
      },
      "source": [
        "def conv_forward(A_prev, W, b, hparameters):\n",
        "  \n",
        "    (m, n_H_prev, n_W_prev, n_C_prev) = A_prev.shape   \n",
        "    (f, f, n_C_prev, n_C) = W.shape    \n",
        "  \n",
        "    stride = hparameters['stride']\n",
        "    pad = hparameters['pad']\n",
        "  \n",
        "    n_H = int(((n_H_prev-f+2*pad)/stride)+1)\n",
        "    n_W = int(((n_W_prev-f+2*pad)/stride)+1)\n",
        "    \n",
        "    Z = np.zeros([m,n_H,n_W,n_C])  \n",
        "    A_prev_pad = zero_pad(A_prev, pad)\n",
        "    \n",
        "    for i in range(m):                         \n",
        "        a_prev_pad = A_prev_pad[i]              \n",
        "        for h in range(n_H):                   \n",
        "            for w in range(n_W):                \n",
        "                for c in range(n_C):            \n",
        "                    \n",
        "                    vert_start = h*stride\n",
        "                    vert_end = vert_start + f\n",
        "                    horiz_start = w*stride\n",
        "                    horiz_end = horiz_start + f                    \n",
        "                    \n",
        "                    a_slice_prev = a_prev_pad[vert_start:vert_end, horiz_start:horiz_end]                 \n",
        "                    Z[i, h, w, c] = conv_single_step(a_slice_prev, W[...,c], b[...,c])                                            \n",
        "   \n",
        "    assert(Z.shape == (m, n_H, n_W, n_C))     \n",
        "    cache = (A_prev, W, b, hparameters)\n",
        "    \n",
        "    return Z, cache"
      ],
      "execution_count": 11,
      "outputs": []
    },
    {
      "cell_type": "code",
      "metadata": {
        "id": "2FcxebWzC_ib",
        "colab": {
          "base_uri": "https://localhost:8080/"
        },
        "outputId": "12ceefce-1436-4e0d-ce0e-8d037c7c88c3"
      },
      "source": [
        "np.random.seed(1)\n",
        "A_prev = np.random.randn(10, 4, 4, 3)\n",
        "W = np.random.randn(2, 2, 3, 8)\n",
        "b = np.random.randn(1, 1, 1, 8)\n",
        "\n",
        "hparameters = {\"pad\" :2,\n",
        "              \"stride\" :2}\n",
        "\n",
        "Z, cache_conv = conv_forward(A_prev, W, b, hparameters)\n",
        "\n",
        "print(\"Z mean =\", np.mean(Z))\n",
        "print(\"Z[3, 2, 1] =\", Z[3, 2, 1])\n",
        "print(\"cache_conv[0][1][2][3] =\", cache_conv[0][1][2][3])\n"
      ],
      "execution_count": 12,
      "outputs": [
        {
          "output_type": "stream",
          "text": [
            "Z mean = 0.048995203528855794\n",
            "Z[3, 2, 1] = [-0.61490741 -6.7439236  -2.55153897  1.75698377  3.56208902  0.53036437\n",
            "  5.18531798  8.75898442]\n",
            "cache_conv[0][1][2][3] = [-0.20075807  0.18656139  0.41005165]\n"
          ],
          "name": "stdout"
        }
      ]
    },
    {
      "cell_type": "markdown",
      "metadata": {
        "id": "lqO_9Gta5wBs"
      },
      "source": [
        "### Define function for pooling..."
      ]
    },
    {
      "cell_type": "code",
      "metadata": {
        "id": "CCkGpIuaEQlY"
      },
      "source": [
        "def pool_forward(A_prev, hparameters,mode = \"max\"):\n",
        "  \n",
        "  (m, n_H_prev, n_W_prev, n_C_prev) = A_prev.shape\n",
        "  \n",
        "  f = hparameters[\"f\"]\n",
        "  stride = hparameters[\"stride\"]\n",
        "  \n",
        "  n_H = int(1 + (n_H_prev -f)/ stride)\n",
        "  n_W = int(1 + (n_W_prev -f)/ stride)\n",
        "  n_C = n_C_prev\n",
        "  \n",
        "  A = np.zeros((m, n_H, n_W, n_C))\n",
        "  \n",
        "  for i in range(m):\n",
        "    for h in range(n_H):\n",
        "      for w in range(n_W):\n",
        "        for c in range(n_C):\n",
        "          \n",
        "          vert_start = h*stride\n",
        "          vert_end = vert_start +f\n",
        "          horiz_start = w*stride\n",
        "          horiz_end = horiz_start +f\n",
        "          \n",
        "          a_prev_slice = A_prev[i, vert_start:vert_end, horiz_start:horiz_end, c]\n",
        "          \n",
        "          if mode == \"max\":\n",
        "            A[i,h, w, c] = np.max(a_prev_slice)\n",
        "          elif mode == \"average\":\n",
        "            A[i,h, w, c] = np.mean(a_prev_slice)\n",
        "            \n",
        "  cache = (A_prev, hparameters)  \n",
        "  assert(A.shape == (m, n_H, n_W, n_C))\n",
        "  \n",
        "  return A, cache \n",
        "  "
      ],
      "execution_count": 13,
      "outputs": []
    },
    {
      "cell_type": "markdown",
      "metadata": {
        "id": "unI8uygVwrk7"
      },
      "source": [
        "**Compare results for different pooling operations!**"
      ]
    },
    {
      "cell_type": "code",
      "metadata": {
        "id": "23L1roIYHCVl",
        "colab": {
          "base_uri": "https://localhost:8080/"
        },
        "outputId": "65395a4c-49a3-4610-e71a-0df9c4f121c1"
      },
      "source": [
        "np.random.seed(1)\n",
        "\n",
        "A_prev = np.random.randn(2, 4, 4, 3)\n",
        "hparameters = {\"stride\" : 2, \"f\" :3}\n",
        "\n",
        "A, cache = pool_forward(A_prev, hparameters)\n",
        "\n",
        "print(\"mod = max\")\n",
        "print(\"A= \", A)\n",
        "\n",
        "A, cache = pool_forward(A_prev, hparameters, mode = \"average\")\n",
        "\n",
        "print(\"mod = average\")\n",
        "print(\"A =\", A)"
      ],
      "execution_count": 14,
      "outputs": [
        {
          "output_type": "stream",
          "text": [
            "mod = max\n",
            "A=  [[[[1.74481176 0.86540763 1.13376944]]]\n",
            "\n",
            "\n",
            " [[[1.13162939 1.51981682 2.18557541]]]]\n",
            "mod = average\n",
            "A = [[[[ 0.02105773 -0.20328806 -0.40389855]]]\n",
            "\n",
            "\n",
            " [[[-0.22154621  0.51716526  0.48155844]]]]\n"
          ],
          "name": "stdout"
        }
      ]
    },
    {
      "cell_type": "markdown",
      "metadata": {
        "id": "0QeFW4RnxSAT"
      },
      "source": [
        "### Define function for backward propagation..."
      ]
    },
    {
      "cell_type": "code",
      "metadata": {
        "id": "w3XNPt3WIbze"
      },
      "source": [
        "def conv_backward(dZ, cache):  \n",
        "        \n",
        "    (A_prev, W, b, hparameters) = cache     \n",
        "    (m, n_H_prev, n_W_prev, n_C_prev) = A_prev.shape     \n",
        "    (f, f, n_C_prev, n_C) = W.shape    \n",
        "   \n",
        "    stride = hparameters['stride']\n",
        "    pad = hparameters['pad']    \n",
        "\n",
        "    (m, n_H, n_W, n_C) = dZ.shape\n",
        "    \n",
        "    dA_prev = np.zeros((m, n_H_prev, n_W_prev, n_C_prev))                           \n",
        "    dW = np.zeros((f,f, n_C_prev, n_C))\n",
        "    db = np.zeros((1, 1, 1, n_C))\n",
        "   \n",
        "    A_prev_pad = zero_pad(A_prev, pad)\n",
        "    dA_prev_pad = zero_pad(dA_prev, pad)\n",
        "    \n",
        "    for i in range(m):                      \n",
        "        a_prev_pad = A_prev_pad[i]\n",
        "        da_prev_pad = dA_prev_pad[i]        \n",
        "        for h in range(n_H):                  \n",
        "            for w in range(n_W):               \n",
        "                for c in range(n_C):                                       \n",
        "                    vert_start = h\n",
        "                    vert_end = vert_start + f\n",
        "                    horiz_start = w\n",
        "                    horiz_end = horiz_start + f                    \n",
        "                   \n",
        "                    a_slice = a_prev_pad[vert_start:vert_end, horiz_start:horiz_end, :]\n",
        "                    \n",
        "                    da_prev_pad[vert_start:vert_end, horiz_start:horiz_end, :] += W[:,:,:,c] * dZ[i, h, w, c]\n",
        "                    dW[:,:,:,c] += a_slice * dZ[i, h, w, c]\n",
        "                    db[:,:,:,c] += dZ[i, h, w, c]\n",
        "                    \n",
        "        dA_prev[i, :, :, :] = da_prev_pad[pad:-pad, pad:-pad, :]    \n",
        "   \n",
        "    assert(dA_prev.shape == (m, n_H_prev, n_W_prev, n_C_prev))\n",
        "    \n",
        "    return dA_prev, dW, db"
      ],
      "execution_count": 15,
      "outputs": []
    },
    {
      "cell_type": "code",
      "metadata": {
        "id": "UAIp9PHUL_hl",
        "colab": {
          "base_uri": "https://localhost:8080/"
        },
        "outputId": "a14ddf71-570b-45d6-8fd8-9d6ef0d30f4a"
      },
      "source": [
        "np.random.seed(1)\n",
        "dA, dW, db = conv_backward(Z, cache_conv)\n",
        "\n",
        "print(\"dA mean =\", np.mean(dA))\n",
        "print(\"dW mean =\", np.mean(dW))\n",
        "print(\"db mean =\", np.mean(db))"
      ],
      "execution_count": 18,
      "outputs": [
        {
          "output_type": "stream",
          "text": [
            "dA mean = 0.6347704472654743\n",
            "dW mean = 1.5572657428497354\n",
            "db mean = 7.839232564616838\n"
          ],
          "name": "stdout"
        }
      ]
    },
    {
      "cell_type": "code",
      "metadata": {
        "id": "7DFLotveNN4O"
      },
      "source": [
        "def create_mask_from_window(x):  \n",
        "  mask = x == np.max(x)  \n",
        "  return mask"
      ],
      "execution_count": 19,
      "outputs": []
    },
    {
      "cell_type": "code",
      "metadata": {
        "id": "upPWtmvOOVK9",
        "colab": {
          "base_uri": "https://localhost:8080/"
        },
        "outputId": "c2deab34-5347-44b1-d9d9-a9ae8b627e7f"
      },
      "source": [
        "np.random.seed(1)\n",
        "x = np.random.randn(2,3)\n",
        "mask = create_mask_from_window(x)\n",
        "\n",
        "print('x =', x)\n",
        "print('mask =', mask)"
      ],
      "execution_count": 20,
      "outputs": [
        {
          "output_type": "stream",
          "text": [
            "x = [[ 1.62434536 -0.61175641 -0.52817175]\n",
            " [-1.07296862  0.86540763 -2.3015387 ]]\n",
            "mask = [[ True False False]\n",
            " [False False False]]\n"
          ],
          "name": "stdout"
        }
      ]
    },
    {
      "cell_type": "code",
      "metadata": {
        "id": "Iwee97_1O11w"
      },
      "source": [
        "def distribute_value(dz, shape): \n",
        "    (n_H, n_W) = shape  \n",
        "    average = dz / (n_H * n_W)     \n",
        "    a =  np.ones(shape) * average   \n",
        "    return a"
      ],
      "execution_count": 21,
      "outputs": []
    },
    {
      "cell_type": "code",
      "metadata": {
        "id": "FuuS3RO9PLSl",
        "colab": {
          "base_uri": "https://localhost:8080/"
        },
        "outputId": "4591d997-1247-4111-a9ac-334035c72ced"
      },
      "source": [
        "a = distribute_value(2, (2,2))\n",
        "print('Distributed value =', a)"
      ],
      "execution_count": 23,
      "outputs": [
        {
          "output_type": "stream",
          "text": [
            "Distributed value = [[0.5 0.5]\n",
            " [0.5 0.5]]\n"
          ],
          "name": "stdout"
        }
      ]
    },
    {
      "cell_type": "code",
      "metadata": {
        "id": "Uq8mA1YCPwHD"
      },
      "source": [
        "def pool_backward(dA, cache, mode= 'max'):  \n",
        "\n",
        "    (A_prev, hparameters) = cache  \n",
        "  \n",
        "    stride = hparameters['stride']\n",
        "    f = hparameters['f']    \n",
        "   \n",
        "    m, n_H_prev, n_W_prev, n_C_prev = A_prev.shape\n",
        "    m, n_H, n_W, n_C = dA.shape\n",
        "       \n",
        "    dA_prev = np.zeros(A_prev.shape)\n",
        " \n",
        "    for i in range(m):                  \n",
        "            \n",
        "        a_prev = A_prev[i]\n",
        "        \n",
        "        for h in range(n_H):                   \n",
        "            for w in range(n_W):             \n",
        "                for c in range(n_C):          \n",
        "                    \n",
        "                    vert_start = h\n",
        "                    vert_end = vert_start + f\n",
        "                    horiz_start = w\n",
        "                    horiz_end = horiz_start + f\n",
        "                                      \n",
        "                    if mode == \"max\":\n",
        "                                         \n",
        "                        a_prev_slice = a_prev[vert_start:vert_end, horiz_start:horiz_end, c]\n",
        "            \n",
        "                        mask = create_mask_from_window(a_prev_slice)\n",
        "                   \n",
        "                        dA_prev[i, vert_start: vert_end, horiz_start: horiz_end, c] += np.multiply(mask, dA[i, h, w, c])\n",
        "                        \n",
        "                    elif mode == \"average\":\n",
        "                                               \n",
        "                        da = dA[i,h,w,c]\n",
        "                      \n",
        "                        shape = (f,f)\n",
        "                        dA_prev[i, vert_start: vert_end, horiz_start: horiz_end, c] += distribute_value(da, shape)\n",
        "                             \n",
        "    assert(dA_prev.shape == A_prev.shape)\n",
        "    \n",
        "    return dA_prev"
      ],
      "execution_count": 24,
      "outputs": []
    },
    {
      "cell_type": "markdown",
      "metadata": {
        "id": "5P7BgTZbxbfN"
      },
      "source": [
        "**Updated weights and other parameters that are updated with back propagation**"
      ]
    },
    {
      "cell_type": "code",
      "metadata": {
        "id": "KGwg6ai9SUlk",
        "colab": {
          "base_uri": "https://localhost:8080/"
        },
        "outputId": "6c821c94-4b76-447f-8217-81ff2a386eda"
      },
      "source": [
        "np.random.seed(1)\n",
        "\n",
        "A_prev = np.random.randn(5, 5, 3, 2)\n",
        "hparameters = {\"stride\": 1, \"f\":2}\n",
        "A, cache = pool_forward(A_prev, hparameters)\n",
        "dA = np.random.randn(5, 4, 2, 2)\n",
        "\n",
        "dA_prev = pool_backward(dA, cache, mode= \"max\")\n",
        "\n",
        "print(\"mod = max\")\n",
        "print('dA mean =', np.max(dA))\n",
        "print('dA_prev[1,1]', dA_prev[1,1])\n",
        "print()\n",
        "\n",
        "dA_prev = pool_backward(dA, cache, mode= \"average\")\n",
        "\n",
        "print(\"mod = average\")\n",
        "print('dA mean =', np.mean(dA))\n",
        "print('dA_prev[1,1]', dA_prev[1,1])\n"
      ],
      "execution_count": 25,
      "outputs": [
        {
          "output_type": "stream",
          "text": [
            "mod = max\n",
            "dA ortalaması = 2.528325706806398\n",
            "dA_prev[1,1] [[ 0.          0.        ]\n",
            " [ 5.05844394 -1.68282702]\n",
            " [ 0.          0.        ]]\n",
            "\n",
            "mod = average\n",
            "dA ortalaması = 0.14571390272918056\n",
            "dA_prev[1,1] [[ 0.08485462  0.2787552 ]\n",
            " [ 1.26461098 -0.25749373]\n",
            " [ 1.17975636 -0.53624893]]\n"
          ],
          "name": "stdout"
        }
      ]
    },
    {
      "cell_type": "code",
      "metadata": {
        "id": "A2H24pTy7PgV"
      },
      "source": [
        ""
      ],
      "execution_count": null,
      "outputs": []
    }
  ]
}