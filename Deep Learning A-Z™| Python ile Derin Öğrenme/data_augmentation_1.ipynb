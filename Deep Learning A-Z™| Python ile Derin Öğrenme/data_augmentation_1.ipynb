{
  "nbformat": 4,
  "nbformat_minor": 0,
  "metadata": {
    "colab": {
      "name": "data_augmentation_1.ipynb",
      "provenance": [],
      "collapsed_sections": [],
      "include_colab_link": true
    },
    "kernelspec": {
      "name": "python3",
      "display_name": "Python 3"
    }
  },
  "cells": [
    {
      "cell_type": "markdown",
      "metadata": {
        "id": "view-in-github",
        "colab_type": "text"
      },
      "source": [
        "<a href=\"https://colab.research.google.com/github/yakupkaplan/Deep-Learning-Materials/blob/main/Deep%20Learning%20A-Z%E2%84%A2%7C%20Python%20ile%20Derin%20%C3%96%C4%9Frenme/data_augmentation_1.ipynb\" target=\"_parent\"><img src=\"https://colab.research.google.com/assets/colab-badge.svg\" alt=\"Open In Colab\"/></a>"
      ]
    },
    {
      "cell_type": "markdown",
      "metadata": {
        "id": "pgCUUWhpyXEf"
      },
      "source": [
        "# Data Augmentation 1"
      ]
    },
    {
      "cell_type": "code",
      "metadata": {
        "id": "DAk3r614vcg3",
        "colab": {
          "base_uri": "https://localhost:8080/"
        },
        "outputId": "fb0b37e9-d75b-4135-d795-71da19d9ae67"
      },
      "source": [
        "from google.colab import drive\n",
        "drive.mount('/content/drive/')"
      ],
      "execution_count": null,
      "outputs": [
        {
          "output_type": "stream",
          "text": [
            "Mounted at /content/drive/\n"
          ],
          "name": "stdout"
        }
      ]
    },
    {
      "cell_type": "markdown",
      "metadata": {
        "id": "Yw-R7pN40mfI"
      },
      "source": [
        "**Directory Adjustments**"
      ]
    },
    {
      "cell_type": "code",
      "metadata": {
        "id": "tiorsM9pw_F4"
      },
      "source": [
        "import os\n",
        "os.chdir(\"/content/drive/My Drive/Udemy_DerinOgrenmeyeGiris/Regularizasyon ve Optimizasyon\")"
      ],
      "execution_count": null,
      "outputs": []
    },
    {
      "cell_type": "code",
      "metadata": {
        "id": "0ZsbWWLoxI8z",
        "colab": {
          "base_uri": "https://localhost:8080/"
        },
        "outputId": "5ab4a81d-606a-4ac6-c52f-a7c94868a70b"
      },
      "source": [
        "!ls"
      ],
      "execution_count": null,
      "outputs": [
        {
          "output_type": "stream",
          "text": [
            "araguler.jpg   README.md\t    veriartirma_1.py\t veriartirma_2.py\n",
            "ChetBaker.jpg  veriartirma_1.ipynb  veriartirma_2.ipynb\n"
          ],
          "name": "stdout"
        }
      ]
    },
    {
      "cell_type": "markdown",
      "metadata": {
        "id": "lNC_LFVL0rkJ"
      },
      "source": [
        "**Import Dependencies**"
      ]
    },
    {
      "cell_type": "code",
      "metadata": {
        "id": "EL2Un74sMjSW"
      },
      "source": [
        "from keras.preprocessing.image import ImageDataGenerator, array_to_img, img_to_array, load_img"
      ],
      "execution_count": null,
      "outputs": []
    },
    {
      "cell_type": "markdown",
      "metadata": {
        "id": "5-V5abap0wWc"
      },
      "source": [
        "### Choosing data augmentation technique and defining hyperparameters"
      ]
    },
    {
      "cell_type": "code",
      "metadata": {
        "id": "FgV9kXz7lnq7"
      },
      "source": [
        "# Define data augmentation technique\n",
        "datagen = ImageDataGenerator(rotation_range=40,\n",
        "                             width_shift_range=0.2,\n",
        "                             height_shift_range=0.2,\n",
        "                             shear_range=0.2,\n",
        "                             zoom_range=0.2,\n",
        "                             horizontal_flip=True,\n",
        "                             vertical_flip=True,\n",
        "                             fill_mode='nearest')"
      ],
      "execution_count": null,
      "outputs": []
    },
    {
      "cell_type": "markdown",
      "metadata": {
        "id": "yoQJkXQz04s6"
      },
      "source": [
        "**Reading the image to be enhanced from the file**"
      ]
    },
    {
      "cell_type": "code",
      "metadata": {
        "id": "380FsRQVlpC5"
      },
      "source": [
        "# Load the image\n",
        "img = load_img('araguler.jpg')\n",
        "x = img_to_array(img)\n",
        "x = x.reshape((1,) + x.shape)"
      ],
      "execution_count": null,
      "outputs": []
    },
    {
      "cell_type": "markdown",
      "metadata": {
        "id": "O4I_afHq09LG"
      },
      "source": [
        "**for loop regarding how many input images we want to be produced, and the operations of saving the results in the relevant format and writing to the file.**"
      ]
    },
    {
      "cell_type": "code",
      "metadata": {
        "id": "j_Xf-AwwlrOc"
      },
      "source": [
        "# Generate 50 different images from a single image and save them in the Augmented_Image folder in .jpeg format.\n",
        "i = 0\n",
        "\n",
        "for batch in datagen.flow(x, batch_size=1,\n",
        "                          save_to_dir='/content/drive/My Drive/Udemy_DerinOgrenmeyeGiris/Regularizasyon ve Optimizasyon/Augmented_Image', \n",
        "                          save_format='jpg'):\n",
        "    i += 1\n",
        "    if i > 50:\n",
        "        break "
      ],
      "execution_count": null,
      "outputs": []
    },
    {
      "cell_type": "code",
      "metadata": {
        "id": "QeBl42d3jnNI"
      },
      "source": [
        ""
      ],
      "execution_count": null,
      "outputs": []
    }
  ]
}