{
  "nbformat": 4,
  "nbformat_minor": 0,
  "metadata": {
    "accelerator": "GPU",
    "colab": {
      "name": "C3W3. Exploring overfitting in NLP.ipynb",
      "provenance": [],
      "collapsed_sections": [],
      "toc_visible": true,
      "include_colab_link": true
    },
    "kernelspec": {
      "display_name": "Python 3",
      "name": "python3"
    }
  },
  "cells": [
    {
      "cell_type": "markdown",
      "metadata": {
        "id": "view-in-github",
        "colab_type": "text"
      },
      "source": [
        "<a href=\"https://colab.research.google.com/github/yakupkaplan/Deep-Learning-Materials/blob/main/TensorFlow%20Developer/C3W3.%20Exploring%20Overfitting%20in%20NLP.ipynb\" target=\"_parent\"><img src=\"https://colab.research.google.com/assets/colab-badge.svg\" alt=\"Open In Colab\"/></a>"
      ]
    },
    {
      "cell_type": "code",
      "metadata": {
        "id": "zX4Kg8DUTKWO"
      },
      "source": [
        "#@title Licensed under the Apache License, Version 2.0 (the \"License\");\n",
        "# you may not use this file except in compliance with the License.\n",
        "# You may obtain a copy of the License at\n",
        "#\n",
        "# https://www.apache.org/licenses/LICENSE-2.0\n",
        "#\n",
        "# Unless required by applicable law or agreed to in writing, software\n",
        "# distributed under the License is distributed on an \"AS IS\" BASIS,\n",
        "# WITHOUT WARRANTIES OR CONDITIONS OF ANY KIND, either express or implied.\n",
        "# See the License for the specific language governing permissions and\n",
        "# limitations under the License."
      ],
      "execution_count": null,
      "outputs": []
    },
    {
      "cell_type": "code",
      "metadata": {
        "id": "hmA6EzkQJ5jt"
      },
      "source": [
        "import json\n",
        "import tensorflow as tf\n",
        "import csv\n",
        "import random\n",
        "import numpy as np\n",
        "\n",
        "from tensorflow.keras.preprocessing.text import Tokenizer\n",
        "from tensorflow.keras.preprocessing.sequence import pad_sequences\n",
        "from tensorflow.keras.utils import to_categorical\n",
        "from tensorflow.keras import regularizers\n",
        "\n",
        "\n",
        "embedding_dim = 100\n",
        "max_length = 16\n",
        "trunc_type='post'\n",
        "padding_type='post'\n",
        "oov_tok = \"<OOV>\"\n",
        "training_size= 160000\n",
        "test_portion=.1\n",
        "\n",
        "corpus = []\n"
      ],
      "execution_count": 1,
      "outputs": []
    },
    {
      "cell_type": "code",
      "metadata": {
        "colab": {
          "base_uri": "https://localhost:8080/"
        },
        "id": "bM0l_dORKqE0",
        "outputId": "66fd1aac-b1ad-4778-b47a-5eb334ad266d"
      },
      "source": [
        "# Note that I cleaned the Stanford dataset to remove LATIN1 encoding to make it easier for Python CSV reader\n",
        "# You can do that yourself with:\n",
        "# iconv -f LATIN1 -t UTF8 training.1600000.processed.noemoticon.csv -o training_cleaned.csv\n",
        "# I then hosted it on my site to make it easier to use in this notebook\n",
        "\n",
        "!wget --no-check-certificate \\\n",
        "    https://storage.googleapis.com/laurencemoroney-blog.appspot.com/training_cleaned.csv \\\n",
        "    -O /tmp/training_cleaned.csv\n",
        "\n",
        "num_sentences = 0\n",
        "\n",
        "with open(\"/tmp/training_cleaned.csv\") as csvfile:\n",
        "    reader = csv.reader(csvfile, delimiter=',')\n",
        "    for row in reader:\n",
        "        list_item=[]\n",
        "        list_item.append(row[5])\n",
        "        this_label=row[0]\n",
        "        if this_label=='0':\n",
        "            list_item.append(0)\n",
        "        else:\n",
        "            list_item.append(1)\n",
        "        num_sentences = num_sentences + 1\n",
        "        corpus.append(list_item)"
      ],
      "execution_count": 2,
      "outputs": [
        {
          "output_type": "stream",
          "text": [
            "--2021-01-12 23:11:24--  https://storage.googleapis.com/laurencemoroney-blog.appspot.com/training_cleaned.csv\n",
            "Resolving storage.googleapis.com (storage.googleapis.com)... 74.125.20.128, 108.177.98.128, 74.125.195.128, ...\n",
            "Connecting to storage.googleapis.com (storage.googleapis.com)|74.125.20.128|:443... connected.\n",
            "HTTP request sent, awaiting response... 200 OK\n",
            "Length: 238942690 (228M) [application/octet-stream]\n",
            "Saving to: ‘/tmp/training_cleaned.csv’\n",
            "\n",
            "/tmp/training_clean 100%[===================>] 227.87M   230MB/s    in 1.0s    \n",
            "\n",
            "2021-01-12 23:11:26 (230 MB/s) - ‘/tmp/training_cleaned.csv’ saved [238942690/238942690]\n",
            "\n"
          ],
          "name": "stdout"
        }
      ]
    },
    {
      "cell_type": "code",
      "metadata": {
        "colab": {
          "base_uri": "https://localhost:8080/"
        },
        "id": "3kxblBUjEUX-",
        "outputId": "c622a8ab-21aa-4e20-d402-28b27a8b072b"
      },
      "source": [
        "print(num_sentences)\n",
        "print(len(corpus))\n",
        "print(corpus[1])"
      ],
      "execution_count": 3,
      "outputs": [
        {
          "output_type": "stream",
          "text": [
            "1600000\n",
            "1600000\n",
            "[\"is upset that he can't update his Facebook by texting it... and might cry as a result  School today also. Blah!\", 0]\n"
          ],
          "name": "stdout"
        }
      ]
    },
    {
      "cell_type": "code",
      "metadata": {
        "id": "ohOGz24lsNAD"
      },
      "source": [
        "sentences=[]\n",
        "labels=[]\n",
        "random.shuffle(corpus)\n",
        "\n",
        "for x in range(training_size):\n",
        "    sentences.append(corpus[x][0])\n",
        "    labels.append(corpus[x][1])\n",
        "\n",
        "tokenizer = Tokenizer()\n",
        "tokenizer.fit_on_texts(sentences)\n",
        "\n",
        "word_index = tokenizer.word_index\n",
        "vocab_size=len(word_index)\n",
        "\n",
        "sequences = tokenizer.texts_to_sequences(sentences)\n",
        "padded = pad_sequences(sequences, maxlen=max_length, padding=padding_type, truncating=trunc_type)\n",
        "\n",
        "split = int(test_portion * training_size)\n",
        "\n",
        "test_sequences = padded[0:split]\n",
        "training_sequences = padded[split:training_size]\n",
        "test_labels = labels[0:split]\n",
        "training_labels = labels[split:training_size]"
      ],
      "execution_count": 4,
      "outputs": []
    },
    {
      "cell_type": "code",
      "metadata": {
        "colab": {
          "base_uri": "https://localhost:8080/"
        },
        "id": "gIrtRem1En3N",
        "outputId": "7d4374d8-ce15-4870-f00a-00755a1c0bd0"
      },
      "source": [
        "print(vocab_size)\n",
        "print(word_index['i'])"
      ],
      "execution_count": 5,
      "outputs": [
        {
          "output_type": "stream",
          "text": [
            "138123\n",
            "1\n"
          ],
          "name": "stdout"
        }
      ]
    },
    {
      "cell_type": "code",
      "metadata": {
        "colab": {
          "base_uri": "https://localhost:8080/"
        },
        "id": "C1zdgJkusRh0",
        "outputId": "4efb9daa-90db-406d-96cb-78b346fbbecc"
      },
      "source": [
        "# Note this is the 100 dimension version of GloVe from Stanford\n",
        "# I unzipped and hosted it on my site to make this notebook easier\n",
        "!wget --no-check-certificate \\\n",
        "    https://storage.googleapis.com/laurencemoroney-blog.appspot.com/glove.6B.100d.txt \\\n",
        "    -O /tmp/glove.6B.100d.txt\n",
        "embeddings_index = {};\n",
        "with open('/tmp/glove.6B.100d.txt') as f:\n",
        "    for line in f:\n",
        "        values = line.split();\n",
        "        word = values[0];\n",
        "        coefs = np.asarray(values[1:], dtype='float32');\n",
        "        embeddings_index[word] = coefs;\n",
        "\n",
        "embeddings_matrix = np.zeros((vocab_size+1, embedding_dim));\n",
        "for word, i in word_index.items():\n",
        "    embedding_vector = embeddings_index.get(word);\n",
        "    if embedding_vector is not None:\n",
        "        embeddings_matrix[i] = embedding_vector;"
      ],
      "execution_count": 6,
      "outputs": [
        {
          "output_type": "stream",
          "text": [
            "--2021-01-12 23:12:11--  https://storage.googleapis.com/laurencemoroney-blog.appspot.com/glove.6B.100d.txt\n",
            "Resolving storage.googleapis.com (storage.googleapis.com)... 173.194.203.128, 74.125.20.128, 74.125.195.128, ...\n",
            "Connecting to storage.googleapis.com (storage.googleapis.com)|173.194.203.128|:443... connected.\n",
            "HTTP request sent, awaiting response... 200 OK\n",
            "Length: 347116733 (331M) [text/plain]\n",
            "Saving to: ‘/tmp/glove.6B.100d.txt’\n",
            "\n",
            "/tmp/glove.6B.100d. 100%[===================>] 331.04M   218MB/s    in 1.5s    \n",
            "\n",
            "2021-01-12 23:12:13 (218 MB/s) - ‘/tmp/glove.6B.100d.txt’ saved [347116733/347116733]\n",
            "\n"
          ],
          "name": "stdout"
        }
      ]
    },
    {
      "cell_type": "code",
      "metadata": {
        "colab": {
          "base_uri": "https://localhost:8080/"
        },
        "id": "71NLk_lpFLNt",
        "outputId": "26673161-b3f4-4637-8cf7-419fc423e8ad"
      },
      "source": [
        "print(len(embeddings_matrix))"
      ],
      "execution_count": 7,
      "outputs": [
        {
          "output_type": "stream",
          "text": [
            "138124\n"
          ],
          "name": "stdout"
        }
      ]
    },
    {
      "cell_type": "code",
      "metadata": {
        "id": "iKKvbuEBOGFz",
        "colab": {
          "base_uri": "https://localhost:8080/"
        },
        "outputId": "96ce40a9-b78c-4571-b0f9-757b152b1c57"
      },
      "source": [
        "model = tf.keras.Sequential([\n",
        "    tf.keras.layers.Embedding(vocab_size+1, embedding_dim, input_length=max_length, weights=[embeddings_matrix], trainable=False),\n",
        "    tf.keras.layers.Dropout(0.2),\n",
        "    tf.keras.layers.Conv1D(64, 5, activation='relu'),\n",
        "    tf.keras.layers.MaxPooling1D(pool_size=4),\n",
        "    tf.keras.layers.LSTM(64),\n",
        "    tf.keras.layers.Dense(1, activation='sigmoid')\n",
        "])\n",
        "model.compile(loss='binary_crossentropy',optimizer='adam',metrics=['accuracy'])\n",
        "model.summary()\n",
        "\n",
        "num_epochs = 50\n",
        "\n",
        "training_padded = np.array(training_sequences)\n",
        "training_labels = np.array(training_labels)\n",
        "testing_padded = np.array(test_sequences)\n",
        "testing_labels = np.array(test_labels)\n",
        "\n",
        "history = model.fit(training_padded, training_labels, epochs=num_epochs, validation_data=(testing_padded, testing_labels), verbose=2)\n",
        "\n",
        "print(\"Training Complete\")"
      ],
      "execution_count": 10,
      "outputs": [
        {
          "output_type": "stream",
          "text": [
            "Model: \"sequential_2\"\n",
            "_________________________________________________________________\n",
            "Layer (type)                 Output Shape              Param #   \n",
            "=================================================================\n",
            "embedding_2 (Embedding)      (None, 16, 100)           13812400  \n",
            "_________________________________________________________________\n",
            "dropout_2 (Dropout)          (None, 16, 100)           0         \n",
            "_________________________________________________________________\n",
            "conv1d_2 (Conv1D)            (None, 12, 64)            32064     \n",
            "_________________________________________________________________\n",
            "max_pooling1d_2 (MaxPooling1 (None, 3, 64)             0         \n",
            "_________________________________________________________________\n",
            "lstm_2 (LSTM)                (None, 64)                33024     \n",
            "_________________________________________________________________\n",
            "dense_2 (Dense)              (None, 1)                 65        \n",
            "=================================================================\n",
            "Total params: 13,877,553\n",
            "Trainable params: 65,153\n",
            "Non-trainable params: 13,812,400\n",
            "_________________________________________________________________\n",
            "Epoch 1/50\n",
            "4500/4500 - 15s - loss: 0.5698 - accuracy: 0.6960 - val_loss: 0.5199 - val_accuracy: 0.7338\n",
            "Epoch 2/50\n",
            "4500/4500 - 14s - loss: 0.5284 - accuracy: 0.7317 - val_loss: 0.5100 - val_accuracy: 0.7422\n",
            "Epoch 3/50\n",
            "4500/4500 - 14s - loss: 0.5121 - accuracy: 0.7429 - val_loss: 0.5034 - val_accuracy: 0.7513\n",
            "Epoch 4/50\n",
            "4500/4500 - 14s - loss: 0.5016 - accuracy: 0.7500 - val_loss: 0.5005 - val_accuracy: 0.7523\n",
            "Epoch 5/50\n",
            "4500/4500 - 14s - loss: 0.4925 - accuracy: 0.7566 - val_loss: 0.4961 - val_accuracy: 0.7591\n",
            "Epoch 6/50\n",
            "4500/4500 - 14s - loss: 0.4852 - accuracy: 0.7617 - val_loss: 0.5032 - val_accuracy: 0.7502\n",
            "Epoch 7/50\n",
            "4500/4500 - 13s - loss: 0.4795 - accuracy: 0.7655 - val_loss: 0.4955 - val_accuracy: 0.7532\n",
            "Epoch 8/50\n",
            "4500/4500 - 13s - loss: 0.4758 - accuracy: 0.7668 - val_loss: 0.4950 - val_accuracy: 0.7567\n",
            "Epoch 9/50\n",
            "4500/4500 - 13s - loss: 0.4706 - accuracy: 0.7708 - val_loss: 0.4941 - val_accuracy: 0.7574\n",
            "Epoch 10/50\n",
            "4500/4500 - 13s - loss: 0.4655 - accuracy: 0.7745 - val_loss: 0.4960 - val_accuracy: 0.7558\n",
            "Epoch 11/50\n",
            "4500/4500 - 13s - loss: 0.4642 - accuracy: 0.7738 - val_loss: 0.4958 - val_accuracy: 0.7568\n",
            "Epoch 12/50\n",
            "4500/4500 - 13s - loss: 0.4603 - accuracy: 0.7767 - val_loss: 0.4970 - val_accuracy: 0.7581\n",
            "Epoch 13/50\n",
            "4500/4500 - 14s - loss: 0.4579 - accuracy: 0.7782 - val_loss: 0.5013 - val_accuracy: 0.7548\n",
            "Epoch 14/50\n",
            "4500/4500 - 13s - loss: 0.4551 - accuracy: 0.7799 - val_loss: 0.5000 - val_accuracy: 0.7543\n",
            "Epoch 15/50\n",
            "4500/4500 - 13s - loss: 0.4524 - accuracy: 0.7810 - val_loss: 0.5002 - val_accuracy: 0.7573\n",
            "Epoch 16/50\n",
            "4500/4500 - 14s - loss: 0.4507 - accuracy: 0.7826 - val_loss: 0.5071 - val_accuracy: 0.7531\n",
            "Epoch 17/50\n",
            "4500/4500 - 14s - loss: 0.4482 - accuracy: 0.7841 - val_loss: 0.5062 - val_accuracy: 0.7517\n",
            "Epoch 18/50\n",
            "4500/4500 - 14s - loss: 0.4474 - accuracy: 0.7855 - val_loss: 0.5032 - val_accuracy: 0.7540\n",
            "Epoch 19/50\n",
            "4500/4500 - 14s - loss: 0.4474 - accuracy: 0.7854 - val_loss: 0.5079 - val_accuracy: 0.7560\n",
            "Epoch 20/50\n",
            "4500/4500 - 14s - loss: 0.4457 - accuracy: 0.7850 - val_loss: 0.5094 - val_accuracy: 0.7547\n",
            "Epoch 21/50\n",
            "4500/4500 - 13s - loss: 0.4429 - accuracy: 0.7873 - val_loss: 0.5091 - val_accuracy: 0.7509\n",
            "Epoch 22/50\n",
            "4500/4500 - 13s - loss: 0.4427 - accuracy: 0.7870 - val_loss: 0.5064 - val_accuracy: 0.7541\n",
            "Epoch 23/50\n",
            "4500/4500 - 13s - loss: 0.4410 - accuracy: 0.7886 - val_loss: 0.5038 - val_accuracy: 0.7568\n",
            "Epoch 24/50\n",
            "4500/4500 - 14s - loss: 0.4396 - accuracy: 0.7887 - val_loss: 0.5102 - val_accuracy: 0.7547\n",
            "Epoch 25/50\n",
            "4500/4500 - 14s - loss: 0.4400 - accuracy: 0.7902 - val_loss: 0.5112 - val_accuracy: 0.7516\n",
            "Epoch 26/50\n",
            "4500/4500 - 14s - loss: 0.4390 - accuracy: 0.7901 - val_loss: 0.5118 - val_accuracy: 0.7531\n",
            "Epoch 27/50\n",
            "4500/4500 - 13s - loss: 0.4370 - accuracy: 0.7919 - val_loss: 0.5080 - val_accuracy: 0.7524\n",
            "Epoch 28/50\n",
            "4500/4500 - 13s - loss: 0.4364 - accuracy: 0.7907 - val_loss: 0.5101 - val_accuracy: 0.7481\n",
            "Epoch 29/50\n",
            "4500/4500 - 14s - loss: 0.4362 - accuracy: 0.7920 - val_loss: 0.5137 - val_accuracy: 0.7506\n",
            "Epoch 30/50\n",
            "4500/4500 - 14s - loss: 0.4355 - accuracy: 0.7929 - val_loss: 0.5126 - val_accuracy: 0.7510\n",
            "Epoch 31/50\n",
            "4500/4500 - 13s - loss: 0.4365 - accuracy: 0.7903 - val_loss: 0.5148 - val_accuracy: 0.7524\n",
            "Epoch 32/50\n",
            "4500/4500 - 13s - loss: 0.4356 - accuracy: 0.7918 - val_loss: 0.5168 - val_accuracy: 0.7517\n",
            "Epoch 33/50\n",
            "4500/4500 - 13s - loss: 0.4344 - accuracy: 0.7934 - val_loss: 0.5158 - val_accuracy: 0.7506\n",
            "Epoch 34/50\n",
            "4500/4500 - 14s - loss: 0.4348 - accuracy: 0.7924 - val_loss: 0.5107 - val_accuracy: 0.7499\n",
            "Epoch 35/50\n",
            "4500/4500 - 13s - loss: 0.4327 - accuracy: 0.7932 - val_loss: 0.5182 - val_accuracy: 0.7473\n",
            "Epoch 36/50\n",
            "4500/4500 - 14s - loss: 0.4337 - accuracy: 0.7931 - val_loss: 0.5168 - val_accuracy: 0.7489\n",
            "Epoch 37/50\n",
            "4500/4500 - 13s - loss: 0.4345 - accuracy: 0.7930 - val_loss: 0.5160 - val_accuracy: 0.7507\n",
            "Epoch 38/50\n",
            "4500/4500 - 13s - loss: 0.4323 - accuracy: 0.7937 - val_loss: 0.5203 - val_accuracy: 0.7494\n",
            "Epoch 39/50\n",
            "4500/4500 - 14s - loss: 0.4328 - accuracy: 0.7942 - val_loss: 0.5166 - val_accuracy: 0.7518\n",
            "Epoch 40/50\n",
            "4500/4500 - 14s - loss: 0.4305 - accuracy: 0.7948 - val_loss: 0.5162 - val_accuracy: 0.7502\n",
            "Epoch 41/50\n",
            "4500/4500 - 13s - loss: 0.4317 - accuracy: 0.7945 - val_loss: 0.5157 - val_accuracy: 0.7519\n",
            "Epoch 42/50\n",
            "4500/4500 - 13s - loss: 0.4312 - accuracy: 0.7946 - val_loss: 0.5169 - val_accuracy: 0.7509\n",
            "Epoch 43/50\n",
            "4500/4500 - 13s - loss: 0.4311 - accuracy: 0.7953 - val_loss: 0.5219 - val_accuracy: 0.7485\n",
            "Epoch 44/50\n",
            "4500/4500 - 13s - loss: 0.4288 - accuracy: 0.7965 - val_loss: 0.5178 - val_accuracy: 0.7484\n",
            "Epoch 45/50\n",
            "4500/4500 - 13s - loss: 0.4287 - accuracy: 0.7959 - val_loss: 0.5211 - val_accuracy: 0.7500\n",
            "Epoch 46/50\n",
            "4500/4500 - 13s - loss: 0.4287 - accuracy: 0.7966 - val_loss: 0.5206 - val_accuracy: 0.7512\n",
            "Epoch 47/50\n",
            "4500/4500 - 13s - loss: 0.4297 - accuracy: 0.7966 - val_loss: 0.5174 - val_accuracy: 0.7496\n",
            "Epoch 48/50\n",
            "4500/4500 - 13s - loss: 0.4288 - accuracy: 0.7961 - val_loss: 0.5188 - val_accuracy: 0.7475\n",
            "Epoch 49/50\n",
            "4500/4500 - 13s - loss: 0.4290 - accuracy: 0.7960 - val_loss: 0.5194 - val_accuracy: 0.7503\n",
            "Epoch 50/50\n",
            "4500/4500 - 13s - loss: 0.4288 - accuracy: 0.7971 - val_loss: 0.5245 - val_accuracy: 0.7514\n",
            "Training Complete\n"
          ],
          "name": "stdout"
        }
      ]
    },
    {
      "cell_type": "code",
      "metadata": {
        "id": "qxju4ItJKO8F",
        "colab": {
          "base_uri": "https://localhost:8080/",
          "height": 610
        },
        "outputId": "680611a4-9edb-45a6-d06d-e66b246a27a8"
      },
      "source": [
        "import matplotlib.image  as mpimg\n",
        "import matplotlib.pyplot as plt\n",
        "\n",
        "#-----------------------------------------------------------\n",
        "# Retrieve a list of list results on training and test data\n",
        "# sets for each training epoch\n",
        "#-----------------------------------------------------------\n",
        "acc=history.history['accuracy']\n",
        "val_acc=history.history['val_accuracy']\n",
        "loss=history.history['loss']\n",
        "val_loss=history.history['val_loss']\n",
        "\n",
        "epochs=range(len(acc)) # Get number of epochs\n",
        "\n",
        "#------------------------------------------------\n",
        "# Plot training and validation accuracy per epoch\n",
        "#------------------------------------------------\n",
        "plt.plot(epochs, acc, 'r')\n",
        "plt.plot(epochs, val_acc, 'b')\n",
        "plt.title('Training and validation accuracy')\n",
        "plt.xlabel(\"Epochs\")\n",
        "plt.ylabel(\"Accuracy\")\n",
        "plt.legend([\"Accuracy\", \"Validation Accuracy\"])\n",
        "\n",
        "plt.figure()\n",
        "\n",
        "#------------------------------------------------\n",
        "# Plot training and validation loss per epoch\n",
        "#------------------------------------------------\n",
        "plt.plot(epochs, loss, 'r')\n",
        "plt.plot(epochs, val_loss, 'b')\n",
        "plt.title('Training and validation loss')\n",
        "plt.xlabel(\"Epochs\")\n",
        "plt.ylabel(\"Loss\")\n",
        "plt.legend([\"Loss\", \"Validation Loss\"])\n",
        "\n",
        "plt.figure()"
      ],
      "execution_count": 11,
      "outputs": [
        {
          "output_type": "execute_result",
          "data": {
            "text/plain": [
              "<Figure size 432x288 with 0 Axes>"
            ]
          },
          "metadata": {
            "tags": []
          },
          "execution_count": 11
        },
        {
          "output_type": "display_data",
          "data": {
            "image/png": "[encoded data removed]",
            "text/plain": [
              "<Figure size 432x288 with 1 Axes>"
            ]
          },
          "metadata": {
            "tags": [],
            "needs_background": "light"
          }
        },
        {
          "output_type": "display_data",
          "data": {
            "image/png": "[encoded data removed]",
            "text/plain": [
              "<Figure size 432x288 with 1 Axes>"
            ]
          },
          "metadata": {
            "tags": [],
            "needs_background": "light"
          }
        },
        {
          "output_type": "display_data",
          "data": {
            "text/plain": [
              "<Figure size 432x288 with 0 Axes>"
            ]
          },
          "metadata": {
            "tags": []
          }
        }
      ]
    },
    {
      "cell_type": "code",
      "metadata": {
        "id": "ySDa3uZi6849"
      },
      "source": [
        ""
      ],
      "execution_count": null,
      "outputs": []
    }
  ]
}